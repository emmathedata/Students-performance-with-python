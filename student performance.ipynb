{
 "cells": [
  {
   "cell_type": "code",
   "execution_count": 2,
   "id": "105f7513",
   "metadata": {},
   "outputs": [],
   "source": [
    "import numpy as np\n",
    "import pandas as pd\n",
    "import sklearn\n",
    "from sklearn import linear_model\n",
    "from sklearn.utils import shuffle"
   ]
  },
  {
   "cell_type": "code",
   "execution_count": 23,
   "id": "7deaa2c4",
   "metadata": {},
   "outputs": [
    {
     "name": "stdout",
     "output_type": "stream",
     "text": [
      "  school sex  age address famsize Pstatus  Medu  Fedu     Mjob      Fjob  ...  \\\n",
      "0     GP   F   18       U     GT3       A     4     4  at_home   teacher  ...   \n",
      "1     GP   F   17       U     GT3       T     1     1  at_home     other  ...   \n",
      "2     GP   F   15       U     LE3       T     1     1  at_home     other  ...   \n",
      "3     GP   F   15       U     GT3       T     4     2   health  services  ...   \n",
      "4     GP   F   16       U     GT3       T     3     3    other     other  ...   \n",
      "\n",
      "  famrel freetime  goout  Dalc  Walc health absences  G1  G2  G3  \n",
      "0      4        3      4     1     1      3        6   5   6   6  \n",
      "1      5        3      3     1     1      3        4   5   5   6  \n",
      "2      4        3      2     2     3      3       10   7   8  10  \n",
      "3      3        2      2     1     1      5        2  15  14  15  \n",
      "4      4        3      2     1     2      5        4   6  10  10  \n",
      "\n",
      "[5 rows x 33 columns]\n"
     ]
    }
   ],
   "source": [
    "# Since our data is seperated by semicolons we need to do sep=\";\"\n",
    "data = pd.read_csv(\"student-mat.csv\", sep=\";\")\n",
    "print(data.head())"
   ]
  },
  {
   "cell_type": "code",
   "execution_count": 11,
   "id": "334e5af8",
   "metadata": {},
   "outputs": [
    {
     "name": "stdout",
     "output_type": "stream",
     "text": [
      "   G1  G2  G3  studytime  failures  absences\n",
      "0   5   6   6          2         0         6\n",
      "1   5   5   6          2         0         4\n",
      "2   7   8  10          2         3        10\n",
      "3  15  14  15          3         0         2\n",
      "4   6  10  10          2         0         4\n"
     ]
    }
   ],
   "source": [
    "#Trimming Our Data\n",
    "#so many attributes and not all are relevant. need to select the ones i want to use\n",
    "#G1-3 means Grade 1 ETC.\n",
    "\n",
    "data = data[[\"G1\", \"G2\", \"G3\", \"studytime\", \"failures\", \"absences\"]]\n",
    "\n",
    "print(data.head())"
   ]
  },
  {
   "cell_type": "code",
   "execution_count": 12,
   "id": "ae0a2a1c",
   "metadata": {},
   "outputs": [],
   "source": [
    "#Separating Our Data\n",
    "predict = \"G3\"\n",
    "\n",
    "X = np.array(data.drop([predict], 1)) # Features\n",
    "y = np.array(data[predict]) # Labels\n",
    "\n",
    "x_train, x_test, y_train, y_test = sklearn.model_selection.train_test_split(X, y, test_size = 0.1)"
   ]
  },
  {
   "cell_type": "code",
   "execution_count": 16,
   "id": "4df482cf",
   "metadata": {},
   "outputs": [],
   "source": [
    "# start by defining the model.\n",
    "linear = linear_model.LinearRegression()"
   ]
  },
  {
   "cell_type": "code",
   "execution_count": 19,
   "id": "cd21c18f",
   "metadata": {},
   "outputs": [
    {
     "name": "stdout",
     "output_type": "stream",
     "text": [
      "0.8802975420095783\n"
     ]
    }
   ],
   "source": [
    " # acc stands for accuracy \n",
    "linear.fit(x_train, y_train)\n",
    "acc = linear.score(x_test, y_test)\n",
    "print(acc)"
   ]
  },
  {
   "cell_type": "code",
   "execution_count": 20,
   "id": "784c2721",
   "metadata": {
    "scrolled": true
   },
   "outputs": [
    {
     "name": "stdout",
     "output_type": "stream",
     "text": [
      "Coefficient: \n",
      " [ 0.15464633  0.97681003 -0.24835317 -0.30352649  0.04169585]\n",
      "Intercept: \n",
      " -1.3706897589972016\n"
     ]
    }
   ],
   "source": [
    "#to see the constants used to generate the line\n",
    "print('Coefficient: \\n', linear.coef_) # These are each slope value\n",
    "print('Intercept: \\n', linear.intercept_) # This is the intercept"
   ]
  },
  {
   "cell_type": "code",
   "execution_count": 21,
   "id": "8867bf7c",
   "metadata": {},
   "outputs": [
    {
     "name": "stdout",
     "output_type": "stream",
     "text": [
      "14.949803014467566 [14 15  2  0  0] 15\n",
      "10.203459075428412 [12 10  2  1 18] 10\n",
      "12.293822210816872 [12 12  2  0 14] 12\n",
      "-0.8670462653578364 [12  0  3  2  0] 0\n",
      "8.950461181892104 [10 10  4  0  0] 10\n",
      "11.71584643277215 [14 12  2  1  0] 12\n",
      "12.946996840608652 [13 12  1  0 20] 12\n",
      "12.252126356938088 [12 12  2  0 13] 13\n",
      "10.887916558511177 [13 11  2  0  0] 10\n",
      "10.578623892932978 [11 11  2  0  0] 10\n",
      "11.648757061512594 [12 11  1  0 16] 11\n",
      "5.350698240043362 [7 7 2 3 5] 7\n",
      "5.532820850941367 [7 6 1 0 5] 7\n",
      "12.593183446364845 [13 13  3  0  0] 13\n",
      "14.878548389436034 [13 15  2  0  2] 16\n",
      "12.13106639754027 [10 13  4  0  6] 13\n",
      "12.28571273032937 [11 13  4  0  6] 14\n",
      "12.615635662274189 [11 13  2  0  2] 13\n",
      "12.924928327852388 [13 13  2  0  2] 13\n",
      "9.362051739456254 [11  9  1  1 19] 10\n",
      "9.530559237109625 [10 10  2  0  2] 10\n",
      "14.856096173526687 [15 15  3  0  0] 15\n",
      "10.183733866901404 [11 10  1  0  8] 10\n",
      "9.08596174411625 [10  9  3  1 28] 9\n",
      "15.38600519122484 [16 15  3  0  9] 16\n",
      "9.88657828404924 [ 8 10  1  0 12] 10\n",
      "9.850167035871134 [11 10  1  0  0] 10\n",
      "5.242771823332607 [7 6 2 0 4] 6\n",
      "6.925586495276928 [9 8 4 0 2] 8\n",
      "12.924928327852388 [13 13  2  0  2] 11\n",
      "5.020815092227499 [7 6 1 1 0] 0\n",
      "13.707218121519052 [12 14  3  0  7] 14\n",
      "8.32784824849717 [8 9 2 0 4] 10\n",
      "13.807010033179118 [11 12  2  0 54] 11\n",
      "15.676054218833603 [16 15  2  0 10] 15\n",
      "12.041825138001446 [12 12  1  0  2] 11\n",
      "11.866548538845725 [13 12  3  0  6] 12\n",
      "16.390552043626684 [17 16  2  0  0] 17\n",
      "16.496395967293598 [15 16  1  0  4] 15\n",
      "8.649277996801406 [9 9 2 0 8] 9\n"
     ]
    }
   ],
   "source": [
    "predictions = linear.predict(x_test) # Gets a list of all predictions\n",
    "\n",
    "for x in range(len(predictions)):\n",
    "    print(predictions[x], x_test[x], y_test[x])"
   ]
  },
  {
   "cell_type": "code",
   "execution_count": null,
   "id": "7bad8913",
   "metadata": {},
   "outputs": [],
   "source": []
  }
 ],
 "metadata": {
  "kernelspec": {
   "display_name": "Python 3",
   "language": "python",
   "name": "python3"
  },
  "language_info": {
   "codemirror_mode": {
    "name": "ipython",
    "version": 3
   },
   "file_extension": ".py",
   "mimetype": "text/x-python",
   "name": "python",
   "nbconvert_exporter": "python",
   "pygments_lexer": "ipython3",
   "version": "3.8.8"
  }
 },
 "nbformat": 4,
 "nbformat_minor": 5
}
